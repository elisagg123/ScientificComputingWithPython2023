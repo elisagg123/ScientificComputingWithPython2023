{
 "cells": [
  {
   "cell_type": "code",
   "execution_count": 51,
   "metadata": {},
   "outputs": [],
   "source": [
    "import numpy as np\n",
    "import matplotlib.pyplot as plt\n",
    "import timeit"
   ]
  },
  {
   "cell_type": "markdown",
   "metadata": {},
   "source": [
    "1\\. **Reductions**\n",
    "\n",
    "Given the following matrix:\n",
    "\n",
    "```python\n",
    "m = np.arange(12).reshape((3,4))\n",
    "```\n",
    "\n",
    "   1. find the total mean\n",
    "   2. find the mean for each row and column"
   ]
  },
  {
   "cell_type": "code",
   "execution_count": 25,
   "metadata": {},
   "outputs": [
    {
     "name": "stdout",
     "output_type": "stream",
     "text": [
      "The array:\n",
      "[[ 0  1  2  3]\n",
      " [ 4  5  6  7]\n",
      " [ 8  9 10 11]]\n",
      "Total mean of array: 5.5\n",
      "Mean of the rows [1.5 5.5 9.5]\n",
      "Mean of the columns [4. 5. 6. 7.]\n"
     ]
    }
   ],
   "source": [
    "m = np.arange(12).reshape((3,4))\n",
    "print('The array:')\n",
    "print(m)\n",
    "\n",
    "tot_mean = np.mean(m)\n",
    "row_mean = np.mean(m, axis = 1)\n",
    "column_mean = np.mean(m, axis = 0)\n",
    "\n",
    "print('Total mean of array:', tot_mean)\n",
    "print('Mean of the rows', row_mean)\n",
    "print('Mean of the columns', column_mean)\n"
   ]
  },
  {
   "cell_type": "markdown",
   "metadata": {},
   "source": [
    "2\\. **Outer product**\n",
    "\n",
    "Find the outer product of the following vectors:\n",
    "\n",
    "```python\n",
    "u = np.array([1, 3, 5, 7])\n",
    "v = np.array([2, 4, 6, 8])\n",
    "```\n",
    "\n",
    "Use different methods to do this:\n",
    "\n",
    "   1. Using the function `outer` in numpy\n",
    "   2. Using a nested `for` loop or a list comprehension\n",
    "   3. Using numpy broadcasting operations"
   ]
  },
  {
   "cell_type": "code",
   "execution_count": 26,
   "metadata": {},
   "outputs": [
    {
     "name": "stdout",
     "output_type": "stream",
     "text": [
      "u = [1 3 5 7]\n",
      "v =  [2 4 6 8]\n",
      "Outer product with outer in numpy\n",
      "[[ 2  4  6  8]\n",
      " [ 6 12 18 24]\n",
      " [10 20 30 40]\n",
      " [14 28 42 56]]\n",
      "Outer product with nested loop:\n",
      "[[ 2  4  6  8]\n",
      " [ 6 12 18 24]\n",
      " [10 20 30 40]\n",
      " [14 28 42 56]]\n",
      "Outer product with broadcasting:\n",
      "[[ 2  4  6  8]\n",
      " [ 6 12 18 24]\n",
      " [10 20 30 40]\n",
      " [14 28 42 56]]\n"
     ]
    }
   ],
   "source": [
    "u = np.array([1, 3, 5, 7])\n",
    "v = np.array([2, 4, 6, 8])\n",
    "\n",
    "#1. With the function outer in numpy\n",
    "outer_numpy = np.outer(u, v)\n",
    "\n",
    "#2. with a nested loop\n",
    "outer_nested = np.zeros((len(u), len(v)))\n",
    "\n",
    "for i in range(len(u)):\n",
    "    for j in range(len(v)):\n",
    "        outer_nested[i, j] = u[i] * v[j]\n",
    "\n",
    "outer_nested = outer_nested.astype(int)\n",
    "\n",
    "#3. With numpy broadcasting operations\n",
    "outer_broadcast = u[:, np.newaxis] * v\n",
    "\n",
    "# Printing everything\n",
    "print('u =', u)\n",
    "print('v = ', v )\n",
    "\n",
    "print('Outer product with outer in numpy')\n",
    "print(outer_numpy)\n",
    "\n",
    "print('Outer product with nested loop:')\n",
    "print(outer_nested)\n",
    "\n",
    "print('Outer product with broadcasting:')\n",
    "print(outer_broadcast)\n"
   ]
  },
  {
   "cell_type": "markdown",
   "metadata": {},
   "source": [
    "3\\. **Matrix masking**\n",
    "\n",
    "Create a $10 \\times 6$ matrix of float random numbers, distributed between 0 and 3 according to a flat distribution.\n",
    "\n",
    "After creating the matrix, set all entries $< 0.3$ to zero using a mask."
   ]
  },
  {
   "cell_type": "code",
   "execution_count": 31,
   "metadata": {},
   "outputs": [
    {
     "name": "stdout",
     "output_type": "stream",
     "text": [
      "matrix before before using the mask: \n",
      "[[0.63492708 2.55713382 0.60880763 0.03032734 0.42515039 1.18588597]\n",
      " [1.60159403 0.8402801  2.11056839 2.47483726 1.58057335 2.67241244]\n",
      " [0.97118789 0.61186441 2.36778079 2.99594668 2.6703522  0.44715541]\n",
      " [1.64444023 2.74755098 2.20368024 2.55041307 1.23054685 0.94757306]\n",
      " [1.51268953 1.29156816 2.38236649 1.69478769 1.74056867 1.94456774]\n",
      " [1.53777121 0.26694178 2.32155354 2.56247834 0.35550778 1.60442892]\n",
      " [2.25336343 2.89552166 1.34932098 2.16331447 1.31086696 2.40675228]\n",
      " [2.64518483 2.76586439 2.0043049  2.69383765 0.46172022 1.47524743]\n",
      " [2.83311622 1.97177356 2.15097683 2.52337767 2.35567038 2.10726071]\n",
      " [0.44363562 2.78102021 1.27076986 2.4724269  2.05376061 1.1898267 ]]\n",
      "matrix after using the mask: \n",
      "[[0.63492708 2.55713382 0.60880763 0.         0.42515039 1.18588597]\n",
      " [1.60159403 0.8402801  2.11056839 2.47483726 1.58057335 2.67241244]\n",
      " [0.97118789 0.61186441 2.36778079 2.99594668 2.6703522  0.44715541]\n",
      " [1.64444023 2.74755098 2.20368024 2.55041307 1.23054685 0.94757306]\n",
      " [1.51268953 1.29156816 2.38236649 1.69478769 1.74056867 1.94456774]\n",
      " [1.53777121 0.         2.32155354 2.56247834 0.35550778 1.60442892]\n",
      " [2.25336343 2.89552166 1.34932098 2.16331447 1.31086696 2.40675228]\n",
      " [2.64518483 2.76586439 2.0043049  2.69383765 0.46172022 1.47524743]\n",
      " [2.83311622 1.97177356 2.15097683 2.52337767 2.35567038 2.10726071]\n",
      " [0.44363562 2.78102021 1.27076986 2.4724269  2.05376061 1.1898267 ]]\n"
     ]
    }
   ],
   "source": [
    "#Creating the matrix asked in the task, and printing it before modifying\n",
    "m = np.random.uniform(0, 3, size = (10, 6) )\n",
    "\n",
    "print('matrix before before using the mask: ')\n",
    "print(m)\n",
    "\n",
    "#Using mask and setting all entries < 0.3 to zero\n",
    "mask = m < 0.3\n",
    "m[mask] = 0\n",
    "print('matrix after using the mask: ')\n",
    "print(m)\n"
   ]
  },
  {
   "cell_type": "markdown",
   "metadata": {},
   "source": [
    "4\\. **Trigonometric functions**\n",
    "\n",
    "Use `np.linspace` to create an array of 100 numbers between $0$ and $2\\pi$ (inclusive).\n",
    "\n",
    "  * Extract every 10th element using the slice notation\n",
    "  * Reverse the array using the slice notation\n",
    "  * Extract elements where the absolute difference between the `sin` and `cos` functions evaluated for that element is $< 0.1$\n",
    "  * **Optional**: make a plot showing the `sin` and `cos` functions and indicate graphically (with a line or a marker) where they are close"
   ]
  },
  {
   "cell_type": "code",
   "execution_count": 39,
   "metadata": {},
   "outputs": [
    {
     "data": {
      "image/png": "[encoded data removed]",
      "text/plain": [
       "<Figure size 640x480 with 1 Axes>"
      ]
     },
     "metadata": {},
     "output_type": "display_data"
    },
    {
     "name": "stdout",
     "output_type": "stream",
     "text": [
      "Array of 100 numbers between 0 and 2*pi: \n",
      "[0.         0.06346652 0.12693304 0.19039955 0.25386607 0.31733259\n",
      " 0.38079911 0.44426563 0.50773215 0.57119866 0.63466518 0.6981317\n",
      " 0.76159822 0.82506474 0.88853126 0.95199777 1.01546429 1.07893081\n",
      " 1.14239733 1.20586385 1.26933037 1.33279688 1.3962634  1.45972992\n",
      " 1.52319644 1.58666296 1.65012947 1.71359599 1.77706251 1.84052903\n",
      " 1.90399555 1.96746207 2.03092858 2.0943951  2.15786162 2.22132814\n",
      " 2.28479466 2.34826118 2.41172769 2.47519421 2.53866073 2.60212725\n",
      " 2.66559377 2.72906028 2.7925268  2.85599332 2.91945984 2.98292636\n",
      " 3.04639288 3.10985939 3.17332591 3.23679243 3.30025895 3.36372547\n",
      " 3.42719199 3.4906585  3.55412502 3.61759154 3.68105806 3.74452458\n",
      " 3.8079911  3.87145761 3.93492413 3.99839065 4.06185717 4.12532369\n",
      " 4.1887902  4.25225672 4.31572324 4.37918976 4.44265628 4.5061228\n",
      " 4.56958931 4.63305583 4.69652235 4.75998887 4.82345539 4.88692191\n",
      " 4.95038842 5.01385494 5.07732146 5.14078798 5.2042545  5.26772102\n",
      " 5.33118753 5.39465405 5.45812057 5.52158709 5.58505361 5.64852012\n",
      " 5.71198664 5.77545316 5.83891968 5.9023862  5.96585272 6.02931923\n",
      " 6.09278575 6.15625227 6.21971879 6.28318531]\n",
      "Extrakting evert 10th element: \n",
      "[0.         0.63466518 1.26933037 1.90399555 2.53866073 3.17332591\n",
      " 3.8079911  4.44265628 5.07732146 5.71198664]\n",
      "Reversed array: \n",
      "[6.28318531 6.21971879 6.15625227 6.09278575 6.02931923 5.96585272\n",
      " 5.9023862  5.83891968 5.77545316 5.71198664 5.64852012 5.58505361\n",
      " 5.52158709 5.45812057 5.39465405 5.33118753 5.26772102 5.2042545\n",
      " 5.14078798 5.07732146 5.01385494 4.95038842 4.88692191 4.82345539\n",
      " 4.75998887 4.69652235 4.63305583 4.56958931 4.5061228  4.44265628\n",
      " 4.37918976 4.31572324 4.25225672 4.1887902  4.12532369 4.06185717\n",
      " 3.99839065 3.93492413 3.87145761 3.8079911  3.74452458 3.68105806\n",
      " 3.61759154 3.55412502 3.4906585  3.42719199 3.36372547 3.30025895\n",
      " 3.23679243 3.17332591 3.10985939 3.04639288 2.98292636 2.91945984\n",
      " 2.85599332 2.7925268  2.72906028 2.66559377 2.60212725 2.53866073\n",
      " 2.47519421 2.41172769 2.34826118 2.28479466 2.22132814 2.15786162\n",
      " 2.0943951  2.03092858 1.96746207 1.90399555 1.84052903 1.77706251\n",
      " 1.71359599 1.65012947 1.58666296 1.52319644 1.45972992 1.3962634\n",
      " 1.33279688 1.26933037 1.20586385 1.14239733 1.07893081 1.01546429\n",
      " 0.95199777 0.88853126 0.82506474 0.76159822 0.6981317  0.63466518\n",
      " 0.57119866 0.50773215 0.44426563 0.38079911 0.31733259 0.25386607\n",
      " 0.19039955 0.12693304 0.06346652 0.        ]\n",
      "Elements where |sin(theta) - cos(theta)| < 0.1: \n",
      "[0.76159822 0.82506474 3.87145761 3.93492413]\n"
     ]
    }
   ],
   "source": [
    "#Creating the array of hundred numbers \n",
    "arr = np.linspace(0, 2*np.pi, 100)\n",
    "\n",
    "#Extracting every 10th element using slice notation\n",
    "every_10th = arr[::10]\n",
    "\n",
    "#Reverse the array\n",
    "reverse_arr = arr[::-1]\n",
    "\n",
    "# Extract elements where |sin(arr) - cos(arr)| < 0.1\n",
    "between_cos_sin = arr[np.abs(np.sin(arr) - np.cos(arr)) < 0.1]\n",
    "\n",
    "# Plot sin and cos functions\n",
    "plt.plot(arr, np.sin(arr), label='sin(arrey)')\n",
    "plt.plot(arr, np.cos(arr), label='cos(array)')\n",
    "\n",
    "# Highlight points where |sin(theta) - cos(theta)| < 0.1\n",
    "plt.scatter(between_cos_sin, np.sin(between_cos_sin), color='red', label='|sin(theta) - cos(theta)| < 0.1')\n",
    "\n",
    "# Set labels and legend\n",
    "plt.xlabel('arr')\n",
    "plt.ylabel('Function Value')\n",
    "plt.legend()\n",
    "\n",
    "# Show the plot\n",
    "plt.show()\n",
    "\n",
    "#printing the tasks\n",
    "print('Array of 100 numbers between 0 and 2*pi: ')\n",
    "print(arr)\n",
    "\n",
    "print('Extrakting evert 10th element: ')\n",
    "print(every_10th)\n",
    "\n",
    "print('Reversed array: ')\n",
    "print(reverse_arr)\n",
    "\n",
    "print('Elements where |sin(theta) - cos(theta)| < 0.1: ')\n",
    "print(between_cos_sin)"
   ]
  },
  {
   "cell_type": "markdown",
   "metadata": {},
   "source": [
    "5\\. **Matrices**\n",
    "\n",
    "Create a matrix that shows the $10 \\times 10$ multiplication table.\n",
    "\n",
    " * Find the trace of the matrix\n",
    " * Extract the anti-diagonal matrix (this should be ```array([10, 18, 24, 28, 30, 30, 28, 24, 18, 10])```)\n",
    " * Extract the diagonal offset by 1 upwards (this should be ```array([ 2,  6, 12, 20, 30, 42, 56, 72, 90])```)"
   ]
  },
  {
   "cell_type": "code",
   "execution_count": 43,
   "metadata": {},
   "outputs": [
    {
     "name": "stdout",
     "output_type": "stream",
     "text": [
      "Multiplication table: \n",
      "[[  1   2   3   4   5   6   7   8   9  10]\n",
      " [  2   4   6   8  10  12  14  16  18  20]\n",
      " [  3   6   9  12  15  18  21  24  27  30]\n",
      " [  4   8  12  16  20  24  28  32  36  40]\n",
      " [  5  10  15  20  25  30  35  40  45  50]\n",
      " [  6  12  18  24  30  36  42  48  54  60]\n",
      " [  7  14  21  28  35  42  49  56  63  70]\n",
      " [  8  16  24  32  40  48  56  64  72  80]\n",
      " [  9  18  27  36  45  54  63  72  81  90]\n",
      " [ 10  20  30  40  50  60  70  80  90 100]]\n",
      "The trace of the multiplication table: \n",
      "385\n",
      "Extracting the anti diogonal of the multiplication table: \n",
      "[10 18 24 28 30 30 28 24 18 10]\n",
      "Extracting the diogonal with offset 1: \n",
      "[ 2  6 12 20 30 42 56 72 90]\n"
     ]
    }
   ],
   "source": [
    "#Creating the multiplication table\n",
    "multiplication_table = np.arange(1, 11)[:, None]*np.arange(1, 11)\n",
    "\n",
    "#Finding the trace of the matrix\n",
    "trace_multiplication_table = np.trace(multiplication_table)\n",
    "\n",
    "#Extracting the anti-diogonal matrix\n",
    "anti_diogonal = np.diag(np.fliplr(multiplication_table))\n",
    "\n",
    "#Extracting the diagonal offset by 1 upwards\n",
    "diogonal_offset_1 = np.diag(multiplication_table, k = 1)\n",
    "\n",
    "#Printing the results\n",
    "print('Multiplication table: ')\n",
    "print(multiplication_table)\n",
    "\n",
    "print('The trace of the multiplication table: ')\n",
    "print(trace_multiplication_table)\n",
    "\n",
    "print('Extracting the anti diogonal of the multiplication table: ')\n",
    "print(anti_diogonal)\n",
    "\n",
    "print('Extracting the diogonal with offset 1: ')\n",
    "print(diogonal_offset_1)"
   ]
  },
  {
   "cell_type": "markdown",
   "metadata": {},
   "source": [
    "6\\. **Broadcasting**\n",
    "\n",
    "Use broadcasting to create a grid of distances.\n",
    "\n",
    "Route 66 crosses the following cities in the US: Chicago, Springfield, Saint-Louis, Tulsa, Oklahoma City, Amarillo, Santa Fe, Albuquerque, Flagstaff, Los Angeles.\n",
    "\n",
    "The corresponding positions in miles are: `0, 198, 303, 736, 871, 1175, 1475, 1544, 1913, 2448`\n",
    "\n",
    "  * Build a 2D grid of distances among each city along Route 66\n",
    "  * Convert the distances in km"
   ]
  },
  {
   "cell_type": "code",
   "execution_count": 50,
   "metadata": {},
   "outputs": [
    {
     "name": "stdout",
     "output_type": "stream",
     "text": [
      "Distances Grid (in miles):\n",
      "[[   0  198  303  736  871 1175 1475 1544 1913 2448]\n",
      " [ 198    0  105  538  673  977 1277 1346 1715 2250]\n",
      " [ 303  105    0  433  568  872 1172 1241 1610 2145]\n",
      " [ 736  538  433    0  135  439  739  808 1177 1712]\n",
      " [ 871  673  568  135    0  304  604  673 1042 1577]\n",
      " [1175  977  872  439  304    0  300  369  738 1273]\n",
      " [1475 1277 1172  739  604  300    0   69  438  973]\n",
      " [1544 1346 1241  808  673  369   69    0  369  904]\n",
      " [1913 1715 1610 1177 1042  738  438  369    0  535]\n",
      " [2448 2250 2145 1712 1577 1273  973  904  535    0]]\n",
      "\n",
      "Distances Grid (in kilometers):\n",
      "[[   0.    318.65  487.63 1184.47 1401.74 1890.97 2373.78 2484.82 3078.67\n",
      "  3939.66]\n",
      " [ 318.65    0.    168.98  865.82 1083.09 1572.33 2055.13 2166.17 2760.02\n",
      "  3621.01]\n",
      " [ 487.63  168.98    0.    696.84  914.11 1403.34 1886.15 1997.19 2591.04\n",
      "  3452.03]\n",
      " [1184.47  865.82  696.84    0.    217.26  706.5  1189.3  1300.35 1894.19\n",
      "  2755.19]\n",
      " [1401.74 1083.09  914.11  217.26    0.    489.24  972.04 1083.09 1676.93\n",
      "  2537.93]\n",
      " [1890.97 1572.33 1403.34  706.5   489.24    0.    482.8   593.85 1187.69\n",
      "  2048.69]\n",
      " [2373.78 2055.13 1886.15 1189.3   972.04  482.8     0.    111.04  704.89\n",
      "  1565.89]\n",
      " [2484.82 2166.17 1997.19 1300.35 1083.09  593.85  111.04    0.    593.85\n",
      "  1454.84]\n",
      " [3078.67 2760.02 2591.04 1894.19 1676.93 1187.69  704.89  593.85    0.\n",
      "   861.  ]\n",
      " [3939.66 3621.01 3452.03 2755.19 2537.93 2048.69 1565.89 1454.84  861.\n",
      "     0.  ]]\n"
     ]
    }
   ],
   "source": [
    "#Distance in miles\n",
    "distance_miles = np.array([0, 198, 303, 736, 871, 1175, 1475, 1544, 1913, 2448])\n",
    "\n",
    "#Creating a 2D grid of distances among each city\n",
    "distance_miles_grid = np.abs(distance_miles - distance_miles[:, np.newaxis])\n",
    "\n",
    "# Conversion factor from miles to kilometers\n",
    "conversion_factor = 1.60934\n",
    "\n",
    "# Convert distances to kilometers\n",
    "distance_km_grid = distance_miles_grid * conversion_factor\n",
    "\n",
    "# Display the distances grid in miles\n",
    "print(\"Distances Grid (in miles):\")\n",
    "print(distance_miles_grid)\n",
    "\n",
    "# Display the distances grid in kilometers with two decimals\n",
    "print(\"\\nDistances Grid (in kilometers):\")\n",
    "np.set_printoptions(precision = 2)\n",
    "print(distance_km_grid)"
   ]
  },
  {
   "cell_type": "markdown",
   "metadata": {},
   "source": [
    "7\\. **Prime numbers sieve**\n",
    "\n",
    "Compute the prime numbers in the 0-N (start with N=99) range with a sieve (mask).\n",
    "\n",
    "  * Construct a shape (N,) boolean array, which is the mask\n",
    "  * Identify the multiples of each number starting from 2 and set accordingly the corresponding mask element\n",
    "  * Apply the mask to obtain an array of ordered prime numbers\n",
    "  * Check the performances (with `timeit`); how does it scale with N?\n",
    "  * Implement the optimization suggested in the [sieve of Eratosthenes](https://en.wikipedia.org/wiki/Sieve_of_Eratosthenes)"
   ]
  },
  {
   "cell_type": "code",
   "execution_count": 55,
   "metadata": {},
   "outputs": [
    {
     "name": "stdout",
     "output_type": "stream",
     "text": [
      "Prime numbers up to 99:\n",
      "[ 2  3  5  7 11 13 17 19 23 29 31 37 41 43 47 53 59 61 67 71 73 79 83 89\n",
      " 97]\n",
      "Time taken: 0.000001 seconds\n"
     ]
    }
   ],
   "source": [
    "#Computing the prime numbers with a sieve\n",
    "N = 99\n",
    "\n",
    "is_prime = np.ones(N+1, dtype = bool)\n",
    "is_prime[0:2] = False\n",
    "\n",
    "for i in range(2, int(np.sqrt(N)) + 1):\n",
    "    if is_prime[i]:\n",
    "        is_prime[i*i:N+1:i] = False\n",
    "\n",
    "prime_num = np.nonzero(is_prime)[0]\n",
    "\n",
    "# Measure the time with timeit\n",
    "time_taken = timeit.timeit(lambda: None, number=1)\n",
    "\n",
    "print(f\"Prime numbers up to {N}:\")\n",
    "print(prime_num)\n",
    "print(f\"Time taken: {time_taken:.6f} seconds\")\n"
   ]
  },
  {
   "cell_type": "markdown",
   "metadata": {},
   "source": [
    "8\\. **Diffusion using random walk**\n",
    "\n",
    "Consider a simple random walk process: at each step in time, a walker jumps right or left (+1 or -1) with equal probability. The goal is to find the typical distance from the origin of many random walkers after a given amount of time.\n",
    "\n",
    "*Hint*: create a 2D array where each row represents a walker, and each column represents a time step.\n",
    "\n",
    "  * Take 1000 walkers and let them walk for 200 steps\n",
    "  * Use `randint` to create a 2D array of size $walkers \\times steps$ with values -1 or 1\n",
    "  * Calculate the walking distances for each walker (e.g. by summing the elements in each row)\n",
    "  * Take the square of the previously-obtained array (element-wise)\n",
    "  * Compute the mean of the squared distances at each step (i.e. the mean along the columns)\n",
    "  * **Optional**: plot the average distances ($\\sqrt(distance^2)$) as a function of time (step)"
   ]
  },
  {
   "cell_type": "code",
   "execution_count": 56,
   "metadata": {},
   "outputs": [
    {
     "data": {
      "image/png": "[encoded data removed]",
      "text/plain": [
       "<Figure size 640x480 with 1 Axes>"
      ]
     },
     "metadata": {},
     "output_type": "display_data"
    }
   ],
   "source": [
    "# Setting parameters\n",
    "walkers = 1000\n",
    "steps = 200\n",
    "\n",
    "# Create a 2D array representing the random walk steps\n",
    "random_steps = np.random.choice([-1, 1], size=(walkers, steps))\n",
    "\n",
    "# Calculate walking distances for each walker\n",
    "distances = np.cumsum(random_steps, axis=1)\n",
    "\n",
    "# Take the square of the distances\n",
    "squared_distances = distances**2\n",
    "\n",
    "# Compute the mean of squared distances at each step\n",
    "mean_squared_distances = np.mean(squared_distances, axis=0)\n",
    "\n",
    "# Optional: Plot the average distances as a function of time\n",
    "plt.plot(mean_squared_distances, label='Mean Squared Distance')\n",
    "plt.xlabel('Time Step')\n",
    "plt.ylabel('Mean Squared Distance')\n",
    "plt.legend()\n",
    "plt.show()\n"
   ]
  }
 ],
 "metadata": {
  "kernelspec": {
   "display_name": "Python 3 (ipykernel)",
   "language": "python",
   "name": "python3"
  },
  "language_info": {
   "codemirror_mode": {
    "name": "ipython",
    "version": 3
   },
   "file_extension": ".py",
   "mimetype": "text/x-python",
   "name": "python",
   "nbconvert_exporter": "python",
   "pygments_lexer": "ipython3",
   "version": "3.8.2"
  }
 },
 "nbformat": 4,
 "nbformat_minor": 2
}
