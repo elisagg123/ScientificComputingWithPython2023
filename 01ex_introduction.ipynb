{
 "cells": [
  {
   "cell_type": "code",
   "execution_count": 31,
   "metadata": {},
   "outputs": [],
   "source": [
    "import math"
   ]
  },
  {
   "cell_type": "markdown",
   "metadata": {},
   "source": [
    "You can solve these exercises in the room or at home. For this week, and the next 3 weeks, exercises have to be solved by creating a single dedicated `.py` file called `01ex_introduction.py`.\n",
    "\n",
    "You can divide the individual exercises in the source code with appropriate comments (`#`).\n",
    "\n",
    "The exercises need to run without errors with `python3 01ex_introduction.py`."
   ]
  },
  {
   "cell_type": "markdown",
   "metadata": {},
   "source": [
    "1\\. **The HelloWorld replacement**\n",
    "\n",
    "a) Write a program that:\n",
    "- prints the numbers from 1 to 100\n",
    "- but for multiples of three print \"`Hello`\" instead of the number and for the multiples of five print \"`World`\"\n",
    "- for numbers which are multiples of both three and five print \"`HelloWorld`\".\n",
    "\n",
    "b) Put the result in a tuple and substitute \"`Hello`\" with \"`Python`\" and \"`World`\" with \"`Works`\"."
   ]
  },
  {
   "cell_type": "code",
   "execution_count": 32,
   "metadata": {},
   "outputs": [
    {
     "name": "stdout",
     "output_type": "stream",
     "text": [
      "1\n",
      "2\n",
      "Hello\n",
      "4\n",
      "World\n",
      "Hello\n",
      "7\n",
      "8\n",
      "Hello\n",
      "World\n",
      "11\n",
      "Hello\n",
      "13\n",
      "14\n",
      "HelloWorld\n",
      "16\n",
      "17\n",
      "Hello\n",
      "19\n",
      "World\n",
      "Hello\n",
      "22\n",
      "23\n",
      "Hello\n",
      "World\n",
      "26\n",
      "Hello\n",
      "28\n",
      "29\n",
      "HelloWorld\n",
      "31\n",
      "32\n",
      "Hello\n",
      "34\n",
      "World\n",
      "Hello\n",
      "37\n",
      "38\n",
      "Hello\n",
      "World\n",
      "41\n",
      "Hello\n",
      "43\n",
      "44\n",
      "HelloWorld\n",
      "46\n",
      "47\n",
      "Hello\n",
      "49\n",
      "World\n",
      "Hello\n",
      "52\n",
      "53\n",
      "Hello\n",
      "World\n",
      "56\n",
      "Hello\n",
      "58\n",
      "59\n",
      "HelloWorld\n",
      "61\n",
      "62\n",
      "Hello\n",
      "64\n",
      "World\n",
      "Hello\n",
      "67\n",
      "68\n",
      "Hello\n",
      "World\n",
      "71\n",
      "Hello\n",
      "73\n",
      "74\n",
      "HelloWorld\n",
      "76\n",
      "77\n",
      "Hello\n",
      "79\n",
      "World\n",
      "Hello\n",
      "82\n",
      "83\n",
      "Hello\n",
      "World\n",
      "86\n",
      "Hello\n",
      "88\n",
      "89\n",
      "HelloWorld\n",
      "91\n",
      "92\n",
      "Hello\n",
      "94\n",
      "World\n",
      "Hello\n",
      "97\n",
      "98\n",
      "Hello\n",
      "World\n"
     ]
    }
   ],
   "source": [
    "#1 --- Hello world replacement ---\n",
    "#task a\n",
    "for number in range(1, 101):\n",
    "    if number % 3 == 0 and number % 5 == 0:\n",
    "        print(\"HelloWorld\")\n",
    "    elif number % 3 == 0:\n",
    "        print(\"Hello\")\n",
    "    elif number % 5 == 0:\n",
    "        print(\"World\")\n",
    "    else:\n",
    "        print(number)\n",
    "#task b\n",
    "list_counting = []\n",
    "for number in range(1, 101):\n",
    "    if number % 3 == 0 and number % 5 == 0:\n",
    "        list_counting.append(\"HelloWorld\")\n",
    "    elif number % 3 == 0:\n",
    "        list_counting.append(\"Python\")\n",
    "    elif number % 5 == 0:\n",
    "        list_counting.append(\"Works\")\n",
    "    else:\n",
    "        list_counting.append(number)\n",
    "\n",
    "tuple_counting = tuple(list_counting)\n",
    "#print(tuple_counting)"
   ]
  },
  {
   "cell_type": "markdown",
   "metadata": {},
   "source": [
    "2\\. **The swap**\n",
    "\n",
    "Write a program that swaps the values of two input variables `x` and `y` from command line (whatever the type).\n",
    "\n",
    "Try to do that without using a temporary variable, exploiting the Python syntax."
   ]
  },
  {
   "cell_type": "code",
   "execution_count": 33,
   "metadata": {},
   "outputs": [
    {
     "name": "stdout",
     "output_type": "stream",
     "text": [
      "Before swapping:\n",
      "x =  7\n",
      "y =  7\n",
      "After swapping\n",
      "x =  7\n",
      "y =  7\n"
     ]
    }
   ],
   "source": [
    "#2 --- The swap --- \n",
    "def swap_xy():\n",
    "    x = input(\"Write in x: \")\n",
    "    y = input(\"Write in y: \")\n",
    "\n",
    "    print(\"Before swapping:\")\n",
    "    print(\"x = \", x)\n",
    "    print(\"y = \", y)\n",
    "\n",
    "    x, y = y, x\n",
    "\n",
    "    print(\"After swapping\")\n",
    "    print(\"x = \", x)\n",
    "    print(\"y = \", y)\n",
    "    \n",
    "swap_xy()"
   ]
  },
  {
   "cell_type": "markdown",
   "metadata": {},
   "source": [
    "3\\. **Computing the distance**\n",
    "\n",
    "Write a program that calculates and prints the euclidean distance between two given points $u$ and $v$ in a 2D space, where $u$ and $v$ are both 2-tuples $(x,y)$.\n",
    "\n",
    "Example: if $u=(3,0)$ and $v=(0,4)$, the function should return $5$.\n",
    "\n",
    "*Hint:* in order to compute the square root, import the `math` library with `import math` and use `math.sqrt()`."
   ]
  },
  {
   "cell_type": "code",
   "execution_count": 34,
   "metadata": {},
   "outputs": [
    {
     "name": "stdout",
     "output_type": "stream",
     "text": [
      "eucledian distance between u and v is:  1.4142135623730951\n"
     ]
    }
   ],
   "source": [
    "#3 --- Computing the distance ---\n",
    "u = (1, 3)\n",
    "v = (0, 4)\n",
    "\n",
    "eucledian_dist = math.sqrt((u[0]- v[0])**2 + (u[1]- v[1])**2)\n",
    "\n",
    "print(\"eucledian distance between u and v is: \", eucledian_dist)\n"
   ]
  },
  {
   "cell_type": "markdown",
   "metadata": {},
   "source": [
    "4\\. **Counting letters**\n",
    "\n",
    "Write a program that calculates the number of times each character occurs in a given string. Ignore differences in capitalization.\n",
    "\n",
    "The test strings are:"
   ]
  },
  {
   "cell_type": "code",
   "execution_count": 35,
   "metadata": {},
   "outputs": [],
   "source": [
    "s1 = \"Write a program that prints the numbers from 1 to 100. \\\n",
    "But for multiples of three print Hello instead of the number and for the multiples of five print World. \\\n",
    "For numbers which are multiples of both three and five print HelloWorld.\"\n",
    "s2 = \"The quick brown fox jumps over the lazy dog\""
   ]
  },
  {
   "cell_type": "code",
   "execution_count": 36,
   "metadata": {},
   "outputs": [
    {
     "name": "stdout",
     "output_type": "stream",
     "text": [
      "'w': 4\n",
      "'r': 19\n",
      "'i': 12\n",
      "'t': 19\n",
      "'e': 20\n",
      "' ': 41\n",
      "'a': 7\n",
      "'p': 8\n",
      "'o': 15\n",
      "'g': 1\n",
      "'m': 8\n",
      "'h': 11\n",
      "'n': 10\n",
      "'s': 7\n",
      "'u': 7\n",
      "'b': 5\n",
      "'f': 10\n",
      "'1': 2\n",
      "'0': 2\n",
      "'.': 3\n",
      "'l': 12\n",
      "'d': 5\n",
      "'v': 2\n",
      "'c': 1\n",
      "'t': 2\n",
      "'h': 2\n",
      "'e': 3\n",
      "' ': 8\n",
      "'q': 1\n",
      "'u': 2\n",
      "'i': 1\n",
      "'c': 1\n",
      "'k': 1\n",
      "'b': 1\n",
      "'r': 2\n",
      "'o': 4\n",
      "'w': 1\n",
      "'n': 1\n",
      "'f': 1\n",
      "'x': 1\n",
      "'j': 1\n",
      "'m': 1\n",
      "'p': 1\n",
      "'s': 1\n",
      "'v': 1\n",
      "'l': 1\n",
      "'a': 1\n",
      "'z': 1\n",
      "'y': 1\n",
      "'d': 1\n",
      "'g': 1\n"
     ]
    }
   ],
   "source": [
    "#4 --- Counting letters --- \n",
    "def count_characters(input_string):\n",
    "    input_string = input_string.lower()\n",
    "    #Empty dictionary\n",
    "    char_counts = {}\n",
    "    for char in input_string:\n",
    "        if char in char_counts:\n",
    "            char_counts[char] += 1 \n",
    "        else:\n",
    "            char_counts[char] = 1\n",
    "    for char, count in char_counts.items():\n",
    "        print(f\"'{char}': {count}\")\n",
    "\n",
    "#Teststrings \n",
    "s1 = \"Write a program that prints the numbers from 1 to 100. \\\n",
    "But for multiples of three print Hello instead of the number and for the multiples of five print World. \\\n",
    "For numbers which are multiples of both three and five print HelloWorld.\"\n",
    "s2 = \"The quick brown fox jumps over the lazy dog\"\n",
    "\n",
    "count_characters(s1)\n",
    "count_characters(s2)"
   ]
  },
  {
   "cell_type": "markdown",
   "metadata": {},
   "source": [
    "5\\. **Isolating the unique**\n",
    "\n",
    "Write a program that determines and counts the unique numbers (numbers with only one occurrence) in the list:"
   ]
  },
  {
   "cell_type": "code",
   "execution_count": 37,
   "metadata": {},
   "outputs": [],
   "source": [
    "l = [36, 45, 58, 3, 74, 96, 64, 45, 31, 10, 24, 19, 33, 86, 99, 18, 63, 70, 85,\n",
    " 85, 63, 47, 56, 42, 70, 84, 88, 55, 20, 54, 8, 56, 51, 79, 81, 57, 37, 91,\n",
    " 1, 84, 84, 36, 66, 9, 89, 50, 42, 91, 50, 95, 90, 98, 39, 16, 82, 31, 92, 41,\n",
    " 45, 30, 66, 70, 34, 85, 94, 5, 3, 36, 72, 91, 84, 34, 87, 75, 53, 51, 20, 89, 51, 20]"
   ]
  },
  {
   "cell_type": "code",
   "execution_count": 38,
   "metadata": {},
   "outputs": [
    {
     "name": "stdout",
     "output_type": "stream",
     "text": [
      "[58, 74, 96, 64, 10, 24, 19, 33, 86, 99, 18, 47, 88, 55, 54, 8, 79, 81, 57, 37, 1, 9, 95, 90, 98, 39, 16, 82, 92, 41, 30, 94, 5, 72, 87, 75, 53]\n"
     ]
    }
   ],
   "source": [
    "#5 --- Isolating the unique ---\n",
    "l = [36, 45, 58, 3, 74, 96, 64, 45, 31, 10, 24, 19, 33, 86, 99, 18, 63, 70, 85,\n",
    " 85, 63, 47, 56, 42, 70, 84, 88, 55, 20, 54, 8, 56, 51, 79, 81, 57, 37, 91,\n",
    " 1, 84, 84, 36, 66, 9, 89, 50, 42, 91, 50, 95, 90, 98, 39, 16, 82, 31, 92, 41,\n",
    " 45, 30, 66, 70, 34, 85, 94, 5, 3, 36, 72, 91, 84, 34, 87, 75, 53, 51, 20, 89, 51, 20]\n",
    "\n",
    "#interpretation of the task: print the numbers that are unique \n",
    "def isolating_unique(input_list):\n",
    "    number_count = {}\n",
    "    unique_num = []\n",
    "    for number in input_list:\n",
    "        if number in number_count:\n",
    "            number_count[number] +=1\n",
    "        else:\n",
    "            number_count[number] = 1\n",
    "    for number, count in number_count.items():\n",
    "        if count == 1:\n",
    "            unique_num.append(number)\n",
    "    return unique_num\n",
    "\n",
    "print(isolating_unique(l))"
   ]
  },
  {
   "cell_type": "markdown",
   "metadata": {},
   "source": [
    "Do the same exploiting only the Python data structures."
   ]
  },
  {
   "cell_type": "markdown",
   "metadata": {},
   "source": [
    "6\\. **Casting**\n",
    "\n",
    "Write a program that:\n",
    "* reads from command line two variables, that can be either `int`, `float`, or `str`.\n",
    "* use the `try`/`except` expressions to perform the addition of these two variables, only if possible\n",
    "* print the result without making the code crash for all the `int`/`float`/`str` input combinations."
   ]
  },
  {
   "cell_type": "code",
   "execution_count": 39,
   "metadata": {},
   "outputs": [
    {
     "name": "stdout",
     "output_type": "stream",
     "text": [
      "Resultat: 7\n"
     ]
    }
   ],
   "source": [
    "def add_variables(var_1, var_2):\n",
    "    try:\n",
    "        result = var_1 + var_2\n",
    "        return result\n",
    "    except (TypeError, ValueError):\n",
    "        return \"Can not add these variables\"\n",
    "\n",
    "if __name__ == \"__main__\":\n",
    "    input_1 = input(\"Write in the first variable: \")\n",
    "    input_2 = input(\"Write in the second variable: \")\n",
    "\n",
    "    try:\n",
    "        var_1 = int(input_1)\n",
    "        var_2 = int(input_2)\n",
    "    except ValueError:\n",
    "        try:\n",
    "            var_1 = float(input_1)\n",
    "            var_2 = float(input_2)\n",
    "        except ValueError:\n",
    "            var_1 = input_1\n",
    "            var_2 = input_2\n",
    "\n",
    "    result = add_variables(var_1, var_2)\n",
    "    print(\"Resultat:\", result)\n"
   ]
  },
  {
   "cell_type": "markdown",
   "metadata": {},
   "source": [
    "7\\. **Cubes**\n",
    "\n",
    "Create a list of the cubes of *x* for *x* in *[0, 10]* using:\n",
    "\n",
    "a) a for loop\n",
    "\n",
    "b) a list comprehension"
   ]
  },
  {
   "cell_type": "code",
   "execution_count": 40,
   "metadata": {},
   "outputs": [
    {
     "name": "stdout",
     "output_type": "stream",
     "text": [
      "[0, 1, 8, 27, 64, 125, 216, 343, 512, 729]\n",
      "[0, 1, 8, 27, 64, 125, 216, 343, 512, 729]\n"
     ]
    }
   ],
   "source": [
    "#7 --- Cubes ---\n",
    "def cubes_loop():\n",
    "    list_of_cubes = []\n",
    "    for x in range(0, 10):\n",
    "        cube = x**3\n",
    "        list_of_cubes.append(cube)\n",
    "    return list_of_cubes\n",
    "\n",
    "def cubes_comprehension():\n",
    "    list_cubes_comprehension = [x**3 for x in range(0, 10)]\n",
    "    return list_cubes_comprehension\n",
    "\n",
    "print(cubes_loop())\n",
    "print(cubes_comprehension())"
   ]
  },
  {
   "cell_type": "markdown",
   "metadata": {},
   "source": [
    "8\\. **List comprehension**\n",
    "\n",
    "Write, using the list comprehension, a single-line expression that gets the same result as the code in the cell below."
   ]
  },
  {
   "cell_type": "code",
   "execution_count": 41,
   "metadata": {},
   "outputs": [
    {
     "name": "stdout",
     "output_type": "stream",
     "text": [
      "[(0, 0), (0, 1), (0, 2), (0, 3), (1, 0), (1, 1), (1, 2), (1, 3), (2, 0), (2, 1), (2, 2), (2, 3)]\n"
     ]
    }
   ],
   "source": [
    "a = []\n",
    "for i in range(3):\n",
    "    for j in range(4):\n",
    "        a.append((i, j))\n",
    "print(a)"
   ]
  },
  {
   "cell_type": "code",
   "execution_count": 42,
   "metadata": {},
   "outputs": [
    {
     "name": "stdout",
     "output_type": "stream",
     "text": [
      "[(0, 0), (0, 1), (0, 2), (0, 3), (1, 0), (1, 1), (1, 2), (1, 3), (2, 0), (2, 1), (2, 2), (2, 3)]\n"
     ]
    }
   ],
   "source": [
    "#8 --- List comprehension ---\n",
    "a = [(i, j) for i in range(3) for j in range(4)]\n",
    "print(a)"
   ]
  },
  {
   "cell_type": "markdown",
   "metadata": {},
   "source": [
    "9\\. **Nested list comprehension**\n",
    "\n",
    "> A Pythagorean triple is an integer solution to the Pythagorean theorem $a^2+b^2=c^2$. The first Pythagorean triple is (3, 4, 5).\n",
    "\n",
    "Find and put in a tuple all unique Pythagorean triples for the positive integers $a$, $b$ and $c$ with $c < 100$."
   ]
  },
  {
   "cell_type": "code",
   "execution_count": 43,
   "metadata": {},
   "outputs": [
    {
     "name": "stdout",
     "output_type": "stream",
     "text": [
      "[(3, 4, 5), (5, 12, 13), (6, 8, 10), (7, 24, 25), (8, 15, 17), (9, 12, 15), (9, 40, 41), (10, 24, 26), (11, 60, 61), (12, 16, 20), (12, 35, 37), (13, 84, 85), (14, 48, 50), (15, 20, 25), (15, 36, 39), (16, 30, 34), (16, 63, 65), (18, 24, 30), (18, 80, 82), (20, 21, 29), (20, 48, 52), (21, 28, 35), (21, 72, 75), (24, 32, 40), (24, 45, 51), (24, 70, 74), (25, 60, 65), (27, 36, 45), (28, 45, 53), (30, 40, 50), (30, 72, 78), (32, 60, 68), (33, 44, 55), (33, 56, 65), (35, 84, 91), (36, 48, 60), (36, 77, 85), (39, 52, 65), (39, 80, 89), (40, 42, 58), (40, 75, 85), (42, 56, 70), (45, 60, 75), (48, 55, 73), (48, 64, 80), (51, 68, 85), (54, 72, 90), (57, 76, 95), (60, 63, 87), (65, 72, 97)]\n"
     ]
    }
   ],
   "source": [
    "#9 --- Nested list of comprehension --- \n",
    "touple_with_pyt = [(a, b, c) for a in range(1, 100)\n",
    "                   for b in range(1, 100)\n",
    "                   for c in range(1, 100)\n",
    "                   if a<b<c and a**2 + b**2 == c**2]\n",
    "print(touple_with_pyt)"
   ]
  },
  {
   "cell_type": "markdown",
   "metadata": {},
   "source": [
    "10\\. **Normalization of a N-dimensional vector**\n",
    "\n",
    "Write a program that takes an N-dimensional vector, e.g. a variable-length tuple of numbers, and normalizes it to one (in such a way that the squared sum of all the entries is equal to 1)."
   ]
  },
  {
   "cell_type": "code",
   "execution_count": 44,
   "metadata": {},
   "outputs": [
    {
     "name": "stdout",
     "output_type": "stream",
     "text": [
      "[0.2672612419124244, 0.5345224838248488, 0.8017837257372732]\n"
     ]
    }
   ],
   "source": [
    "#10 --- Normalization of a N-dimentional vector ---\n",
    "def normalization_vec(n_dim_vec):\n",
    "    magnitude = math.sqrt(sum([elements**2 for elements in n_dim_vec]))\n",
    "    normalized_vec = [elements / magnitude for elements in n_dim_vec ]\n",
    "    return normalized_vec\n",
    "\n",
    "vec_to_be_norm = [1, 2, 3]\n",
    "print(normalization_vec(vec_to_be_norm))"
   ]
  },
  {
   "cell_type": "markdown",
   "metadata": {},
   "source": [
    "11\\. **The Fibonacci sequence**\n",
    "\n",
    "Calculate the first 20 numbers of the [Fibonacci sequence](https://en.wikipedia.org/wiki/Fibonacci_number) using only `for` or `while` loops."
   ]
  },
  {
   "cell_type": "code",
   "execution_count": 45,
   "metadata": {},
   "outputs": [
    {
     "name": "stdout",
     "output_type": "stream",
     "text": [
      "[0, 1, 1, 2, 3, 5, 8, 13, 21, 34, 55, 89, 144, 233, 377, 610, 987, 1597, 2584, 4181]\n"
     ]
    }
   ],
   "source": [
    "#11 --- The fibonacci sequence --- \n",
    "def fibonacci_seq():\n",
    "    fibonacci_seq_vec = [0, 1]\n",
    "    while len(fibonacci_seq_vec)<20:\n",
    "        next_fibonacci_number = fibonacci_seq_vec[-1] + fibonacci_seq_vec[-2]\n",
    "        fibonacci_seq_vec.append(next_fibonacci_number)\n",
    "    return fibonacci_seq_vec\n",
    "print(fibonacci_seq())"
   ]
  }
 ],
 "metadata": {
  "kernelspec": {
   "display_name": "Python 3 (ipykernel)",
   "language": "python",
   "name": "python3"
  },
  "language_info": {
   "codemirror_mode": {
    "name": "ipython",
    "version": 3
   },
   "file_extension": ".py",
   "mimetype": "text/x-python",
   "name": "python",
   "nbconvert_exporter": "python",
   "pygments_lexer": "ipython3",
   "version": "3.8.2"
  }
 },
 "nbformat": 4,
 "nbformat_minor": 4
}
