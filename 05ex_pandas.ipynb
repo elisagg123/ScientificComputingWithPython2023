{
 "cells": [
  {
   "cell_type": "code",
   "execution_count": 32,
   "metadata": {},
   "outputs": [],
   "source": [
    "import pandas as pd\n",
    "import matplotlib.pyplot as plt"
   ]
  },
  {
   "cell_type": "markdown",
   "metadata": {},
   "source": [
    "1\\. **Pandas DataFrame**\n",
    "\n",
    "This exercise consists in analyzing a dataset containg timing information from a series of Time-to-Digital-Converters (TDC) implemented in a pair of FPGAs. Each measurement (i.e. each row of the input file) consists of a flag that specifies the type of message ('HEAD', which in this case is always 1), two addresses of the TDC providing the signal ('FPGA' and 'TDC_CHANNEL'), and the timing information ('ORBIT_CNT', 'BX_COUNTER', and 'TDC_MEAS'). Each TDC count corresponds to 25/30 ns, whereas a unit of BX_COUNTER corresponds to 25 ns, and the ORBIT_CNT is increased every `x` BX_COUNTER. This allows to store the time in a similar way to hours, minutes and seconds."
   ]
  },
  {
   "cell_type": "code",
   "execution_count": 33,
   "metadata": {},
   "outputs": [],
   "source": [
    "# If haven't downloaded it yet, please get the data file with wget\n",
    "#!wget https://www.dropbox.com/s/xvjzaxzz3ysphme/data_000637.txt -P ./data/"
   ]
  },
  {
   "cell_type": "markdown",
   "metadata": {},
   "source": [
    "1\\. Create a Pandas DataFrame reading N rows of the `data/data_000637.txt` dataset. Choose N to be smaller than or equal to the maximum number of rows and larger that 10k (check the documentation)."
   ]
  },
  {
   "cell_type": "code",
   "execution_count": 34,
   "metadata": {},
   "outputs": [
    {
     "name": "stdout",
     "output_type": "stream",
     "text": [
      "       HEAD  FPGA  TDC_CHANNEL   ORBIT_CNT  BX_COUNTER  TDC_MEAS\n",
      "0         1     0          123  3869200167        2374        26\n",
      "1         1     0          124  3869200167        2374        27\n",
      "2         1     0           63  3869200167        2553        28\n",
      "3         1     0           64  3869200167        2558        19\n",
      "4         1     0           64  3869200167        2760        25\n",
      "...     ...   ...          ...         ...         ...       ...\n",
      "14995     1     1            4  3869200316        3399         9\n",
      "14996     1     1           17  3869200316        3400        15\n",
      "14997     1     1           10  3869200316        3530        16\n",
      "14998     1     1            8  3869200316        3533        18\n",
      "14999     1     0          139  3869200316        3539         0\n",
      "\n",
      "[15000 rows x 6 columns]\n"
     ]
    }
   ],
   "source": [
    "# Setting file path\n",
    "file_path = 'data_000637.txt'\n",
    "\n",
    "# Reading the first N rows\n",
    "N = 15000\n",
    "\n",
    "# Read the data with Pandas\n",
    "df = pd.read_csv(file_path, nrows=N)\n",
    "\n",
    "#Printing the collected data \n",
    "print(df)"
   ]
  },
  {
   "cell_type": "markdown",
   "metadata": {},
   "source": [
    "2\\. Estimate the number of BX in a ORBIT (the value `x`).\n",
    "\n",
    "*Hint*: check when the BX counter reaches the maximum value before being reset to 0."
   ]
  },
  {
   "cell_type": "code",
   "execution_count": 35,
   "metadata": {},
   "outputs": [
    {
     "name": "stdout",
     "output_type": "stream",
     "text": [
      "Estimated number of BX in an ORBIT (x): 24941\n"
     ]
    }
   ],
   "source": [
    "# Identify when BX counter reaches maximum\n",
    "max_bx = df['BX_COUNTER'].max()\n",
    "\n",
    "# Count the number of ORBITs\n",
    "orbit_count = df[df['BX_COUNTER'] == 0].shape[0]\n",
    "\n",
    "# Estimate x based on observations\n",
    "estimated_x = max_bx * orbit_count\n",
    "\n",
    "print(f\"Estimated number of BX in an ORBIT (x): {estimated_x}\")\n"
   ]
  },
  {
   "cell_type": "markdown",
   "metadata": {},
   "source": [
    "3\\. Create a new column with the absolute time in ns (as a combination of the other three columns with timing information) since the beginning of the data acquisition, and convert the new column to a Time Series.\n",
    "\n",
    "*Hint:* introduce an offset to the absolute time such that the start of the data acquisition (i.e. the first entry) is zero."
   ]
  },
  {
   "cell_type": "code",
   "execution_count": 36,
   "metadata": {},
   "outputs": [
    {
     "name": "stdout",
     "output_type": "stream",
     "text": [
      "       HEAD  FPGA  TDC_CHANNEL   ORBIT_CNT  BX_COUNTER  TDC_MEAS  \\\n",
      "0         1     0          123  3869200167        2374        26   \n",
      "1         1     0          124  3869200167        2374        27   \n",
      "2         1     0           63  3869200167        2553        28   \n",
      "3         1     0           64  3869200167        2558        19   \n",
      "4         1     0           64  3869200167        2760        25   \n",
      "...     ...   ...          ...         ...         ...       ...   \n",
      "14995     1     1            4  3869200316        3399         9   \n",
      "14996     1     1           17  3869200316        3400        15   \n",
      "14997     1     1           10  3869200316        3530        16   \n",
      "14998     1     1            8  3869200316        3533        18   \n",
      "14999     1     0          139  3869200316        3539         0   \n",
      "\n",
      "                        ABS_TIME_NS  \n",
      "0     1970-01-01 00:00:00.000002379  \n",
      "1     1970-01-01 00:00:00.000002380  \n",
      "2     1970-01-01 00:00:00.000002560  \n",
      "3     1970-01-01 00:00:00.000002556  \n",
      "4     1970-01-01 00:00:00.000002764  \n",
      "...                             ...  \n",
      "14995 1970-01-01 00:00:00.000003536  \n",
      "14996 1970-01-01 00:00:00.000003543  \n",
      "14997 1970-01-01 00:00:00.000003674  \n",
      "14998 1970-01-01 00:00:00.000003679  \n",
      "14999 1970-01-01 00:00:00.000003667  \n",
      "\n",
      "[15000 rows x 7 columns]\n"
     ]
    }
   ],
   "source": [
    "# Create a new column with the absolute time as an addition of the three columns, in ns\n",
    "df['ABS_TIME_NS'] = ( df['ORBIT_CNT']  + df['BX_COUNTER'] + df['TDC_MEAS'])\n",
    "\n",
    "# Set the offset to the start\n",
    "offset = df['ABS_TIME_NS'].min()\n",
    "df['ABS_TIME_NS'] -= offset\n",
    "\n",
    "# Convert the new column to time series\n",
    "df['ABS_TIME_NS'] = pd.to_datetime(df['ABS_TIME_NS'], unit='ns')\n",
    "\n",
    "# Printing the dataframe\n",
    "print(df)\n"
   ]
  },
  {
   "cell_type": "markdown",
   "metadata": {},
   "source": [
    "4\\. Find out the duration of the data taking in hours, minutes and seconds, by using the features of the Time Series. Perform this check reading the whole dataset."
   ]
  },
  {
   "cell_type": "code",
   "execution_count": 37,
   "metadata": {},
   "outputs": [
    {
     "name": "stdout",
     "output_type": "stream",
     "text": [
      "Duration of data taking: 0.0 hours, 0.0 minutes, 3e-06 seconds\n"
     ]
    }
   ],
   "source": [
    "#Finding the duration \n",
    "duration = df['ABS_TIME_NS'].max() - df['ABS_TIME_NS'].min()\n",
    "\n",
    "#Extracting the hours, minutes, and seconds\n",
    "hours = duration.total_seconds() // 3600\n",
    "minutes = (duration.total_seconds() % 3600) // 60 \n",
    "seconds = duration.total_seconds() % 60\n",
    "\n",
    "print(f\"Duration of data taking: {hours} hours, {minutes} minutes, {seconds} seconds\")"
   ]
  },
  {
   "cell_type": "markdown",
   "metadata": {},
   "source": [
    "5\\. Use the `.groupby()` method to find out the noisy channels, i.e. the TDC channels with most counts (print to screen the top 3 and the corresponding counts)"
   ]
  },
  {
   "cell_type": "code",
   "execution_count": 38,
   "metadata": {},
   "outputs": [
    {
     "name": "stdout",
     "output_type": "stream",
     "text": [
      "Top 3 Noisy Channels:\n",
      "TDC_CHANNEL\n",
      "139    1268\n",
      "64      752\n",
      "63      749\n",
      "dtype: int64\n"
     ]
    }
   ],
   "source": [
    "# Grouping by TDC_CHANNEL and count occurrences\n",
    "channel_counts = df.groupby('TDC_CHANNEL').size()\n",
    "\n",
    "# Finding the top 3 noisy channels\n",
    "top_noisy_channels = channel_counts.nlargest(3)\n",
    "\n",
    "# Printing the result\n",
    "print(\"Top 3 Noisy Channels:\")\n",
    "print(top_noisy_channels)"
   ]
  },
  {
   "cell_type": "markdown",
   "metadata": {},
   "source": [
    "6\\. Count the number of non-empty orbits (i.e. the number of orbits with at least one hit)."
   ]
  },
  {
   "cell_type": "code",
   "execution_count": 39,
   "metadata": {},
   "outputs": [
    {
     "name": "stdout",
     "output_type": "stream",
     "text": [
      "Number of non-empty orbits (with at least one hit): 150\n"
     ]
    }
   ],
   "source": [
    "# Count the number of orbits with at least one hit\n",
    "non_empty_orbits_count = df['ORBIT_CNT'].nunique()\n",
    "\n",
    "# Print the result\n",
    "print(f\"Number of non-empty orbits (with at least one hit): {non_empty_orbits_count}\")\n"
   ]
  },
  {
   "cell_type": "markdown",
   "metadata": {},
   "source": [
    "7\\. Count the number of unique orbits with at least one measurement from TDC_CHANNEL=139."
   ]
  },
  {
   "cell_type": "code",
   "execution_count": 40,
   "metadata": {},
   "outputs": [
    {
     "name": "stdout",
     "output_type": "stream",
     "text": [
      "Number of unique orbits with at least one measurement from TDC_CHANNEL=139: 150\n"
     ]
    }
   ],
   "source": [
    "# Filtering rows where TDC_CHANNEL is 139\n",
    "filtered_df = df[df['TDC_CHANNEL'] == 139]\n",
    "\n",
    "# Counting the number of unique orbits in the filtered DataFrame\n",
    "unique_orbits_count = filtered_df['ORBIT_CNT'].nunique()\n",
    "\n",
    "# Printing the result\n",
    "print(f\"Number of unique orbits with at least one measurement from TDC_CHANNEL=139: {unique_orbits_count}\")\n"
   ]
  },
  {
   "cell_type": "markdown",
   "metadata": {},
   "source": [
    "8\\. Create two Series (one for each FPGA) that have the TDC channel as index, and the number of counts for the corresponding TDC channel as values."
   ]
  },
  {
   "cell_type": "code",
   "execution_count": 41,
   "metadata": {},
   "outputs": [
    {
     "name": "stdout",
     "output_type": "stream",
     "text": [
      "FPGA 0 Series:\n",
      "TDC_CHANNEL\n",
      "1        8\n",
      "2       16\n",
      "3       16\n",
      "4       19\n",
      "5       19\n",
      "      ... \n",
      "121     63\n",
      "122     71\n",
      "123    202\n",
      "124    193\n",
      "139    879\n",
      "Length: 117, dtype: int64\n",
      "\n",
      "FPGA 1 Series:\n",
      "TDC_CHANNEL\n",
      "1      338\n",
      "2      363\n",
      "3      277\n",
      "4      290\n",
      "5      189\n",
      "      ... \n",
      "125      6\n",
      "126      7\n",
      "127     16\n",
      "128     18\n",
      "139    389\n",
      "Length: 124, dtype: int64\n"
     ]
    }
   ],
   "source": [
    "# Grouping by FPGA and TDC_CHANNEL and count occurrences\n",
    "fpga_channel_counts = df.groupby(['FPGA', 'TDC_CHANNEL']).size()\n",
    "\n",
    "# Separating the counts for each FPGA\n",
    "fpga_counts_0 = fpga_channel_counts.loc[0]\n",
    "fpga_counts_1 = fpga_channel_counts.loc[1]\n",
    "\n",
    "# Converting to Series with TDC_CHANNEL as index\n",
    "fpga0_series = pd.Series(fpga_counts_0.values, index=fpga_counts_0.index.get_level_values('TDC_CHANNEL'))\n",
    "fpga1_series = pd.Series(fpga_counts_1.values, index=fpga_counts_1.index.get_level_values('TDC_CHANNEL'))\n",
    "\n",
    "# Printing the result\n",
    "print(\"FPGA 0 Series:\")\n",
    "print(fpga0_series)\n",
    "\n",
    "print(\"\\nFPGA 1 Series:\")\n",
    "print(fpga1_series)\n"
   ]
  },
  {
   "cell_type": "markdown",
   "metadata": {},
   "source": [
    "9\\. **Optional:** Create two histograms (one for each FPGA) that show the number of counts for each TDC channel."
   ]
  },
  {
   "cell_type": "code",
   "execution_count": 42,
   "metadata": {},
   "outputs": [
    {
     "data": {
      "image/png": "[encoded data removed]",
      "text/plain": [
       "<Figure size 1200x600 with 2 Axes>"
      ]
     },
     "metadata": {},
     "output_type": "display_data"
    }
   ],
   "source": [
    "# Plot histograms for each FPGA\n",
    "plt.figure(figsize=(12, 6))\n",
    "\n",
    "# Creating histogram for FPGA 0\n",
    "plt.subplot(1, 2, 1)\n",
    "plt.hist(fpga_counts_0, bins=20, edgecolor='black')\n",
    "plt.title('Histogram for FPGA 0')\n",
    "plt.xlabel('Number of Counts')\n",
    "plt.ylabel('Frequency')\n",
    "\n",
    "# Creating Histogram for FPGA 1\n",
    "plt.subplot(1, 2, 2)\n",
    "plt.hist(fpga_counts_1, bins=20, edgecolor='black')\n",
    "plt.title('Histogram for FPGA 1')\n",
    "plt.xlabel('Number of Counts')\n",
    "plt.ylabel('Frequency')\n",
    "\n",
    "plt.tight_layout()\n",
    "plt.show()\n"
   ]
  }
 ],
 "metadata": {
  "kernelspec": {
   "display_name": "Python 3 (ipykernel)",
   "language": "python",
   "name": "python3"
  },
  "language_info": {
   "codemirror_mode": {
    "name": "ipython",
    "version": 3
   },
   "file_extension": ".py",
   "mimetype": "text/x-python",
   "name": "python",
   "nbconvert_exporter": "python",
   "pygments_lexer": "ipython3",
   "version": "3.8.2"
  }
 },
 "nbformat": 4,
 "nbformat_minor": 2
}
