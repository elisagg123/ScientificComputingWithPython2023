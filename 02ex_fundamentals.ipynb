{
 "cells": [
  {
   "cell_type": "markdown",
   "metadata": {},
   "source": [
    "You can solve these exercises in the room or at home. For this week, and the next 3 weeks, exercises have to be solved by creating a single dedicated `.py` file called `02ex_fundamentals.py`.\n",
    "\n",
    "You can divide the individual exercises in the source code with appropriate comments (`#`).\n",
    "\n",
    "The exercises need to run without errors with `python3 02ex_fundamentals.py`."
   ]
  },
  {
   "cell_type": "code",
   "execution_count": null,
   "metadata": {},
   "outputs": [],
   "source": [
    "import math \n",
    "import timeit"
   ]
  },
  {
   "cell_type": "markdown",
   "metadata": {},
   "source": [
    "1\\. **Global variables**\n",
    "\n",
    "Convert the function $f$ into a function that doesn't use global variables and that does not modify the original list"
   ]
  },
  {
   "cell_type": "code",
   "execution_count": null,
   "metadata": {},
   "outputs": [],
   "source": [
    "x = 5\n",
    "\n",
    "def f(alist):\n",
    "    for i in range(x):\n",
    "        alist.append(i)\n",
    "    return alist\n",
    "\n",
    "alist = [1, 2, 3]\n",
    "ans = f(alist)\n",
    "print(ans)\n",
    "print(alist) # alist has been changed"
   ]
  },
  {
   "cell_type": "code",
   "execution_count": null,
   "metadata": {},
   "outputs": [],
   "source": [
    "#1 --- Global variables ---\n",
    "def f(alist):\n",
    "    x = 5\n",
    "    new_list = alist.copy()\n",
    "    for i in range(x):\n",
    "        new_list.append(i)\n",
    "    return new_list\n",
    "\n",
    "alist = [1, 2, 3]\n",
    "ans = f(alist)\n",
    "print(ans)\n",
    "print(alist) # alist has not been changed"
   ]
  },
  {
   "cell_type": "markdown",
   "metadata": {},
   "source": [
    "2\\. **List comprehension**\n",
    "\n",
    "Write the following expression using a list comprehension:\n",
    "\n",
    "`ans = list(map(lambda x: x * x, filter(lambda x: x % 2 == 1, range(10))))`"
   ]
  },
  {
   "cell_type": "code",
   "execution_count": null,
   "metadata": {},
   "outputs": [],
   "source": [
    "#2 --- List comprehension ---\n",
    "ans = [x*x for x in range(10) if x % 2 == 1 ]\n",
    "print(ans)"
   ]
  },
  {
   "cell_type": "markdown",
   "metadata": {},
   "source": [
    "3\\. **Filter list**\n",
    "\n",
    "Using the `filter()` hof, define a function that takes a list of words and an integer `n` as arguments, and returns a list of words that are shorter than `n`."
   ]
  },
  {
   "cell_type": "code",
   "execution_count": null,
   "metadata": {},
   "outputs": [],
   "source": [
    "#3 --- Filter list --- \n",
    "def filter_short_words(word_list, n):\n",
    "    short_words = list(filter(lambda word: len(word) < n, word_list))\n",
    "    return short_words"
   ]
  },
  {
   "cell_type": "markdown",
   "metadata": {},
   "source": [
    "4\\. **Map dictionary**\n",
    "\n",
    "\n",
    "Consider the following dictionary:\n",
    "\n",
    "`lang = {\"Python\" : 3, \"Java\" : '', \"Cplusplus\" : 'test', \"Php\" : 0.7}`\n",
    "\n",
    "Write a function that takes the above dictionary and uses the `map()` higher order function to return a list that contains the length of the keys of the dictionary."
   ]
  },
  {
   "cell_type": "code",
   "execution_count": null,
   "metadata": {},
   "outputs": [],
   "source": [
    "#4 --- Map dictionary ---\n",
    "lang = {\"Python\" : 3, \"Java\" : '', \"Cplusplus\" : 'test', \"Php\" : 0.7}\n",
    "\n",
    "def keys_length(dictionary):\n",
    "    return list(map(len, dictionary.keys()))\n",
    "\n",
    "print(keys_length(lang))"
   ]
  },
  {
   "cell_type": "markdown",
   "metadata": {},
   "source": [
    "5\\. **Lambda functions**\n",
    "\n",
    "Write a Python program that sorts the following list of tuples using a lambda function, according to the alphabetical order of the first element of the tuple:\n",
    "\n",
    "`language_scores = [('Python', 97), ('Cplusplus', 81), ('Php', 45), ('Java', 32)]`\n",
    "\n",
    "*Hint*: use the method `sort()` and its argument `key` of the `list` data structure."
   ]
  },
  {
   "cell_type": "code",
   "execution_count": null,
   "metadata": {},
   "outputs": [],
   "source": [
    "#5 --- Lambda functions ---\n",
    "language_scores = [('Python', 97), ('Cplusplus', 81), ('Php', 45), ('Java', 32)]\n",
    "\n",
    "def sort_touple(touple_to_be_sorted):\n",
    "    touple_to_be_sorted.sort(key=lambda x: x[0] )\n",
    "\n",
    "sort_touple(language_scores)\n",
    "\n",
    "print(language_scores)"
   ]
  },
  {
   "cell_type": "markdown",
   "metadata": {},
   "source": [
    "6\\. **Nested functions**\n",
    "\n",
    "Write two functions: one that returns the square of a number, and one that returns its cube.\n",
    "\n",
    "Then, write a third function that returns the number raised to the 6th power, using only the two previous functions."
   ]
  },
  {
   "cell_type": "code",
   "execution_count": null,
   "metadata": {},
   "outputs": [],
   "source": [
    "#6 --- Nested functions --- \n",
    "def square_of_num(number):\n",
    "    return number**2\n",
    "\n",
    "def cube_of_num(number):\n",
    "    return number**3\n",
    "\n",
    "def sixth_pow_of_num(number):\n",
    "    return square_of_num(cube_of_num(number))\n",
    "\n",
    "print(sixth_pow_of_num(2))"
   ]
  },
  {
   "cell_type": "markdown",
   "metadata": {},
   "source": [
    "7\\. **Decorators**\n",
    "\n",
    "Write a decorator named `hello` that makes every wrapped function print “Hello World!” each time the function is called.\n",
    "\n",
    "The wrapped function should look like:\n",
    "\n",
    "```python\n",
    "@hello\n",
    "def square(x):\n",
    "    return x*x\n",
    "```"
   ]
  },
  {
   "cell_type": "code",
   "execution_count": null,
   "metadata": {},
   "outputs": [],
   "source": [
    "#7 --- Decorators ---\n",
    "def hello(func):\n",
    "    def wrapper(*args, **kwargs):\n",
    "        print(\"Hello world\")\n",
    "        results = func(*args, **kwargs)\n",
    "        return results\n",
    "    return wrapper\n",
    "\n",
    "@hello\n",
    "def square(x):\n",
    "    return x*x\n",
    "\n",
    "print(square(5))"
   ]
  },
  {
   "cell_type": "markdown",
   "metadata": {},
   "source": [
    "8\\. **The Fibonacci sequence (part 2)**\n",
    "\n",
    "Calculate the first 20 numbers of the [Fibonacci sequence](https://en.wikipedia.org/wiki/Fibonacci_number) using a recursive function."
   ]
  },
  {
   "cell_type": "code",
   "execution_count": null,
   "metadata": {},
   "outputs": [],
   "source": [
    "def fibonacci_rec(n):\n",
    "    if n <= 0:\n",
    "        return 0\n",
    "    elif n == 1:\n",
    "        return 1\n",
    "    else: \n",
    "        return fibonacci_rec(n-1)+fibonacci_rec(n-2)\n",
    "    \n",
    "for i in range(20):\n",
    "   print(fibonacci_rec(i))"
   ]
  },
  {
   "cell_type": "markdown",
   "metadata": {},
   "source": [
    "9\\. **The Fibonacci sequence (part 3)**\n",
    "\n",
    "Run both the Fibonacci recursive function from the previous exercise, and the Fibonacci function from 01ex that use only `for` and `while` loops.\n",
    "\n",
    "Measure the execution code of the two functions with `timeit` ([link to the doc](https://docs.python.org/3/library/timeit.html)), for example:\n",
    "\n",
    "`%timeit loopFibonacci(20)`\n",
    "\n",
    "`%timeit recursiveFibonacci(20)`\n",
    "\n",
    "which one is the most efficient implementation? By how much?"
   ]
  },
  {
   "cell_type": "code",
   "execution_count": null,
   "metadata": {},
   "outputs": [],
   "source": [
    "#9 --- The Fibonacci Sequence (part 3) ---\n",
    "#Code from ex 1\n",
    "def fibonacci_loop(n):\n",
    "    fibonacci_seq_vec = [0, 1]\n",
    "    while len(fibonacci_seq_vec)<n:\n",
    "        next_fibonacci_number = fibonacci_seq_vec[-1] + fibonacci_seq_vec[-2]\n",
    "        fibonacci_seq_vec.append(next_fibonacci_number)\n",
    "    return fibonacci_seq_vec\n",
    "print(fibonacci_loop(20))\n",
    "\n",
    "execution_time_loop = timeit.timeit(lambda: fibonacci_loop(20), number= 1000)\n",
    "execution_time_rec = timeit.timeit(lambda: fibonacci_rec(20), number= 1000)\n",
    "\n",
    "#print(f\"Average execution time for the loop function: {execution_time_loop:.6f} seconds\")\n",
    "#print(f\"Average execution time for the recursive function: {execution_time_rec:.6f} seconds\")\n",
    "\n",
    "#The loop function is way more time efficient that the recursive, this can make sense ar the recursive needs to call itself for every iteration\n",
    "#When I am running it 1000 times, as the code above shows, the difference is on over 24 seconds."
   ]
  },
  {
   "cell_type": "markdown",
   "metadata": {},
   "source": [
    "10\\. **Class definition**\n",
    "\n",
    "Define a class `polygon`. The constructor has to take a tuple as input that contains the length of each side. The (unordered) input list does not have to have a fixed length, but should contain at least 3 items.\n",
    "\n",
    "- Create appropriate methods to get and set the length of each side\n",
    "\n",
    "- Create a method `perimeter()` that returns the perimeter of the polygon\n",
    "\n",
    "- Create a method `getOrderedSides(increasing = True)` that returns a tuple containing the length of the sides arranged in increasing or decreasing order, depending on the argument of the method\n",
    "\n",
    "Test the class by creating an instance and calling the `perimeter()` and `getOrderedSides(increasing = True)` methods."
   ]
  },
  {
   "cell_type": "code",
   "execution_count": null,
   "metadata": {},
   "outputs": [],
   "source": [
    "#10 ---Class definition---\n",
    "class Polygon:\n",
    "    def __init__(self, sides):\n",
    "        if len(sides) < 3:\n",
    "            raise ValueError('Needs to be more than three sides')\n",
    "        self.sides = list(sides)\n",
    "\n",
    "    def perimeter(self):\n",
    "        return sum(self.sides)\n",
    "\n",
    "    def getOrderedSides(self, increasing=True):\n",
    "        sides_sorted = sorted(self.sides)\n",
    "        if not increasing:\n",
    "            sides_sorted = sides_sorted[::-1]  # Flips the list\n",
    "        return tuple(sides_sorted)"
   ]
  },
  {
   "cell_type": "markdown",
   "metadata": {},
   "source": [
    "11\\. **Class inheritance**\n",
    "\n",
    "Define a class `rectangle` that inherits from `polygon`. Modify the constructor, if necessary, to make sure that the input data is consistent with the geometrical properties of a rectangle.\n",
    "\n",
    "- Create a method `area()` that returns the area of the rectangle.\n",
    "\n",
    "Test the `rectangle` class by creating an instance and passing an appropriate input to the constructor."
   ]
  },
  {
   "cell_type": "code",
   "execution_count": null,
   "metadata": {},
   "outputs": [],
   "source": [
    "#11 ---Rectangle class inheriting from Polygon---\n",
    "class Rectangle(Polygon):\n",
    "    def __init__(self, sides):\n",
    "        if len(sides) < 4: #Tried with 2, but didnt manage to do that since the polygon class had the 3 sides limitation...\n",
    "            raise ValueError('A rectangle needs four sides')\n",
    "        super().__init__(sides)  # Call the superclass's __init__ method\n",
    "\n",
    "    def area(self):\n",
    "        unique_numbers = []  # Temporary list for limiting the list to two similar sides\n",
    "        for num in self.sides:\n",
    "            if num not in unique_numbers:\n",
    "                unique_numbers.append(num)\n",
    "        area = 1\n",
    "        for side in unique_numbers:  # Use self.sides to access the sides\n",
    "            area *= side\n",
    "        return area\n",
    "\n",
    "# Test the classes\n",
    "rectangle = Rectangle((2, 4, 2, 4))\n",
    "print(\"Perimeter:\", rectangle.perimeter())\n",
    "print(\"Ordered Sides (Increasing):\", rectangle.getOrderedSides(increasing=True))\n",
    "print(\"Ordered Sides (Decreasing):\", rectangle.getOrderedSides(increasing=False))\n",
    "print(\"Area:\", rectangle.area())"
   ]
  }
 ],
 "metadata": {
  "kernelspec": {
   "display_name": "Python 3 (ipykernel)",
   "language": "python",
   "name": "python3"
  },
  "language_info": {
   "codemirror_mode": {
    "name": "ipython",
    "version": 3
   },
   "file_extension": ".py",
   "mimetype": "text/x-python",
   "name": "python",
   "nbconvert_exporter": "python",
   "pygments_lexer": "ipython3",
   "version": "3.10.12"
  }
 },
 "nbformat": 4,
 "nbformat_minor": 2
}
