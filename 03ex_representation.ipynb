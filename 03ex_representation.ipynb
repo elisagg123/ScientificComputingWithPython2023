{
 "cells": [
  {
   "cell_type": "markdown",
   "metadata": {},
   "source": [
    "You can solve these exercises in the room or at home. For this week, and the next 3 weeks, exercises have to be solved by creating a single dedicated `.py` file called `03ex_representation.py`.\n",
    "\n",
    "You can divide the individual exercises in the source code with appropriate comments (`#`).\n",
    "\n",
    "The exercises need to run without errors with `python3 03ex_representation.py`."
   ]
  },
  {
   "cell_type": "code",
   "execution_count": null,
   "metadata": {
    "vscode": {
     "languageId": "plaintext"
    }
   },
   "outputs": [],
   "source": [
    "import sys\n",
    "import math\n",
    "import timeit"
   ]
  },
  {
   "cell_type": "markdown",
   "metadata": {},
   "source": [
    "1\\. **Number representation**\n",
    "\n",
    "Write a function that converts integer numbers among the bin, dec, and hex representations (bin<->dec<->hex).\n",
    "Determine the input type in the function, and pass another argument to choose the output representation."
   ]
  },
  {
   "cell_type": "code",
   "execution_count": null,
   "metadata": {
    "vscode": {
     "languageId": "plaintext"
    }
   },
   "outputs": [],
   "source": [
    "#1 --- Number representation ---\n",
    "\n",
    "def conv_numb(number, invert_to):\n",
    "    if invert_to not in {'hex', 'int', 'bin'}:\n",
    "        return \"Invalide output representation\"\n",
    "    if isinstance(number, int):\n",
    "        if invert_to == \"bin\":\n",
    "            return bin(number)[2:] #Convert number to bin, and removes 0b\n",
    "        elif invert_to == \"hex\":\n",
    "            return hex(number)[2:] #Convert number to hex, and removes 0x\n",
    "        else:\n",
    "            return 'Invalid type to invert to, must be either bin, hex or int'\n",
    "    if isinstance(number, hex):\n",
    "        if invert_to == \"bin\":\n",
    "            return bin(number)[2:]\n",
    "        elif invert_to == \"int\":\n",
    "            return int(number)\n",
    "        else: \n",
    "            return 'Invalid type to invert to, must be either bin, hex or int'\n",
    "    if isinstance(number, int):\n",
    "        if invert_to == \"hex\":\n",
    "            return hex(number)\n",
    "        elif invert_to == \"bin\":\n",
    "            return bin(number)\n",
    "        else: \n",
    "            return \"Invalid type to invert to, must be either bin, hex or int\"\n",
    "\n",
    "#Testing\n",
    "number = 42  #int/dec input\n",
    "output_base = 'hex'  #Want it in hex\n",
    "result = conv_numb(number, output_base)\n",
    "#print(f\"{number} in {output_base} is {result}\")"
   ]
  },
  {
   "cell_type": "markdown",
   "metadata": {},
   "source": [
    "2\\. **32-bit floating point number**\n",
    "\n",
    "Write a function that converts a 32 bit binary string (for example, `110000101011000000000000`) into a single precision floating point in decimal representation. Interpret the various bits as sign, fractional part of the mantissa and exponent, according to the IEEE 754 reccommendations."
   ]
  },
  {
   "cell_type": "code",
   "execution_count": null,
   "metadata": {
    "vscode": {
     "languageId": "plaintext"
    }
   },
   "outputs": [],
   "source": [
    "#2 --- 32-bit floating point number --- \n",
    "def bin_str_to_dec(binary_string):\n",
    "    if len(binary_string) != 32:\n",
    "        return \"Invalid input string, must be a 32 bits binary representation\"\n",
    "    \n",
    "    sign_bit = int(binary_string[0])\n",
    "    exp_bits = binary_string[1:9]\n",
    "    mantissa_bits = binary_string[9:]\n",
    "    \n",
    "    sign = 1 if sign_bit == 0 else -1 #Decides if the number is neg or pos\n",
    "    exp = int(exp_bits, 2) #Converts the eight next numbers to int, 2 is for saying that its binary\n",
    "    mantissa = 1.0\n",
    "\n",
    "    for i, bit in enumerate(mantissa_bits):\n",
    "        if bit == '1':\n",
    "            mantissa += 2**(-i -1)\n",
    "\n",
    "    return sign * mantissa * 2**exp\n",
    "\n",
    "#Testing \n",
    "binary_str = \"11000010101100000000000001100100\"\n",
    "result = bin_str_to_dec(binary_str)\n",
    "#print(f\"The decimal representation of {binary_str} is {result}\")"
   ]
  },
  {
   "cell_type": "markdown",
   "metadata": {},
   "source": [
    "3\\. **Underflow and overflow**\n",
    "\n",
    "Write a program to determine the approximate underflow and overflow limits (within a factor of 2) for floating point numbers on your computer. \n",
    "\n",
    "*Hint*: define two variables initialized to 1, and halve/double them for a sufficient amount of times to exceed the under/over-flow limits."
   ]
  },
  {
   "cell_type": "code",
   "execution_count": null,
   "metadata": {
    "vscode": {
     "languageId": "plaintext"
    }
   },
   "outputs": [],
   "source": [
    "#3 --- Underflow and overflow ---\n",
    "underflow_lim = 1.0\n",
    "overflow_lim = 1.0\n",
    "\n",
    "while underflow_lim/2 != 0:\n",
    "    underflow_lim /= 2\n",
    "while overflow_lim *2 != float('inf'):\n",
    "    overflow_lim*=2\n",
    "\n",
    "# Printing the results\n",
    "#print(f\"Underflow limit: {underflow_lim:.2e}\")\n",
    "#print(f\"Overflow limit: {overflow_lim:.2e}\")"
   ]
  },
  {
   "cell_type": "markdown",
   "metadata": {},
   "source": [
    "4\\. **Machine precision**\n",
    "\n",
    "Similarly to the previous exercise, write a program to determine the machine precision for floating point numbers.\n",
    "\n",
    "*Hint*: define a new variable by adding an increasingly smaller value and check when the addition starts to have no effect on the number."
   ]
  },
  {
   "cell_type": "code",
   "execution_count": null,
   "metadata": {
    "vscode": {
     "languageId": "plaintext"
    }
   },
   "outputs": [],
   "source": [
    "#4 --- Machine precition ---\n",
    "def machine_precision():\n",
    "    n = 0\n",
    "    prec_comp = 1.0\n",
    "    prev_prec_comp = 0.0\n",
    "\n",
    "    while 1.0 + prec_comp != 1.0:\n",
    "        prev_pres_comp = prec_comp\n",
    "        prec_comp = prec_comp / 2\n",
    "        n += 1\n",
    "\n",
    "    return prev_prec_comp, n\n",
    "\n",
    "precision, iterations = machine_precision()\n",
    "#print(f\"Machine Precision: {precision:.17f}\")\n",
    "#print(f\"Number of Iterations: {iterations}\")"
   ]
  },
  {
   "cell_type": "markdown",
   "metadata": {},
   "source": [
    "5\\. **Quadratic solution**\n",
    "\n",
    "Write a function that takes in input three parameters $a$, $b$ and $c$ and prints out the two solutions to the quadratic equation $ax^2+bx+c=0$ using the standard formula:\n",
    "$$\n",
    "x=\\frac{-b\\pm\\sqrt{b^2-4ac}}{2a}\n",
    "$$\n",
    "\n",
    "(a) use the function to compute the solution for $a=0.001$, $b=1000$ and $c=0.001$\n",
    "\n",
    "(b) re-express the standard solution formula by multiplying the numerator and the denominator by $-b\\mp\\sqrt{b^2-4ac}$ and again find the solution for $a=0.001$, $b=1000$ and $c=0.001$. How does it compare with what has been previously obtained, and why? (add the answer to a Python comment)\n",
    "\n",
    "(c) write a function that computes the roots of a quadratic equation accurately in all cases"
   ]
  },
  {
   "cell_type": "code",
   "execution_count": null,
   "metadata": {
    "vscode": {
     "languageId": "plaintext"
    }
   },
   "outputs": [],
   "source": [
    "#5 --- Quadratic solution --- \n",
    "def quadratic_solution(a, b, c):\n",
    "    check_valid = b**2 - 4*a*c\n",
    "    if check_valid < 0:\n",
    "        return \"Does not exist a real solution\"\n",
    "    \n",
    "    x_1 = (-b + math.sqrt(b**2-4*a*c)) / (2*a)\n",
    "    x_2 = (-b - math.sqrt(b**2-4*a*c)) / (2*a)\n",
    "\n",
    "    return x_1, x_2\n",
    "import math\n",
    "\n",
    "a = 0.001\n",
    "b = 1000\n",
    "c = 0.001\n",
    "\n",
    "#print(\"Solutions for a: \", quadratic_solution(a, b, c))\n",
    "\n",
    "#b)\n",
    "def quadratic_solution_reexpressed(a, b, c):\n",
    "    # Re-expressed quadratic formula\n",
    "    check_valid = b**2 - 4*a*c\n",
    "    if check_valid < 0:\n",
    "        return \"Does not exist a real solution\"\n",
    "    \n",
    "    x_1 = (-2*c) / (b + math.sqrt(b**2 - 4*a*c))\n",
    "    x_2 = (-2*c) / (b - math.sqrt(b**2 - 4*a*c))\n",
    "    \n",
    "    return x_1, x_2\n",
    "\n",
    "#print(\"Solutions for b:\", quadratic_solution_reexpressed(a, b, c))\n",
    "\n",
    "#The solutions from part b, with the re-expressed formula are almost the same as in those obtained from a, with the standard formula.\n",
    "#The re-expressed formula is derived by multiplying the numerator and denominator of the formula from a, which should simplify to the same result.\n",
    "\n",
    "#c)\n",
    "def quadratic_solution_all_cases(a, b, c):\n",
    "    discriminant = b**2 - 4*a*c\n",
    "    if discriminant > 0:\n",
    "        # Then two real solutions\n",
    "        x1 = (-b + math.sqrt(discriminant)) / (2*a)\n",
    "        x2 = (-b - math.sqrt(discriminant)) / (2*a)\n",
    "        return x1, x2\n",
    "    elif discriminant == 0:\n",
    "        # Then one real solution\n",
    "        x1 = -b / (2*a)\n",
    "        return x1\n",
    "    else:\n",
    "        # The complex solutions\n",
    "        re_part = -b / (2*a)\n",
    "        im_part = math.sqrt(abs(discriminant)) / (2*a)\n",
    "        solution_1 = complex(re_part, im_part)\n",
    "        solution_2 = complex(re_part, -im_part)\n",
    "        return solution_1, solution_2\n",
    "\n",
    "#Testing\n",
    "a = 1\n",
    "b = -5\n",
    "c = 6\n",
    "solutions = quadratic_solution_all_cases(a, b, c)\n",
    "#print(\"Solutions for c:\", solutions)"
   ]
  },
  {
   "cell_type": "markdown",
   "metadata": {},
   "source": [
    "6\\. **The derivative**\n",
    "\n",
    "Write a program that implements the function $f(x)=x(x−1)$\n",
    "\n",
    "(a) Calculate the derivative of the function at the point $x = 1$ using the derivative definition:\n",
    "\n",
    "$$\n",
    "\\frac{{\\rm d}f}{{\\rm d}x} = \\lim_{\\delta\\to0} \\frac{f(x+\\delta)-f(x)}{\\delta}\n",
    "$$\n",
    "\n",
    "with $\\delta = 10^{−2}$. Calculate the true value of the same derivative analytically and compare it with the answer your program gives. The two will not agree perfectly. Why?\n",
    "\n",
    "(b) Repeat the calculation for $\\delta = 10^{−4}, 10^{−6}, 10^{−8}, 10^{−10}, 10^{−12}$ and $10^{−14}$. How does the accuracy scale with $\\delta$?"
   ]
  },
  {
   "cell_type": "code",
   "execution_count": null,
   "metadata": {
    "vscode": {
     "languageId": "plaintext"
    }
   },
   "outputs": [],
   "source": [
    "#6 --- The derivative ---\n",
    "def function_variable(x):\n",
    "    return x * (x - 1)\n",
    "\n",
    "def num_der(f, x, delta):\n",
    "    return (f(x + delta) - f(x)) / delta\n",
    "\n",
    "def analy_der(x):\n",
    "    return 2 * x - 1\n",
    "\n",
    "point = 1\n",
    "delta_val = [1e-2, 1e-4, 1e-6, 1e-8, 1e-10, 1e-12, 1e-14]\n",
    "\"\"\"\n",
    "for delta in delta_val:\n",
    "    appr_der = num_der(function_variable, point, delta)\n",
    "    true_der = analy_der(point)\n",
    "    \n",
    "    print(f\"Delta = {delta}:\")\n",
    "    print(\"Approximate Derivative:\", appr_der)\n",
    "    print(\"True Analytical Derivative:\", true_der)\n",
    "    print()\n",
    "\n",
    "\"\"\""
   ]
  },
  {
   "cell_type": "markdown",
   "metadata": {},
   "source": [
    "7\\. **Integral of a semicircle**\n",
    "\n",
    "Consider the integral of the semicircle of radius 1:\n",
    "$$\n",
    "I=\\int_{-1}^{1} \\sqrt(1-x^2) {\\rm d}x\n",
    "$$\n",
    "which is known to be $I=\\frac{\\pi}{2}=1.57079632679...$.\n",
    "\n",
    "Alternatively we can use the Riemann definition of the integral:\n",
    "$$\n",
    "I=\\lim_{N\\to\\infty} \\sum_{k=1}^{N} h y_k \n",
    "$$\n",
    "\n",
    "with $h=2/N$ the width of each of the $N$ slices the domain is divided into and where\n",
    "$y_k$ is the value of the function at the $k-$th slice.\n",
    "\n",
    "(a) Write a program to compute the integral with $N=100$. How does the result compare to the true value?\n",
    "\n",
    "(b) How much can $N$ be increased if the computation needs to be run in less than a second? What is the gain in running it for 1 minute? Use `timeit` to measure the time."
   ]
  },
  {
   "cell_type": "code",
   "execution_count": null,
   "metadata": {
    "vscode": {
     "languageId": "plaintext"
    }
   },
   "outputs": [],
   "source": [
    "#7 --- Integral of a semicircle --- \n",
    "def semicircle(x):\n",
    "    return (1 - x**2)**0.5\n",
    "\n",
    "def riemann_integral(N):\n",
    "    h = 2 / N\n",
    "    integral = 0\n",
    "    for k in range(1, N + 1):\n",
    "        x_k = -1 + k * h\n",
    "        y_k = semicircle(x_k)\n",
    "        integral += h * y_k\n",
    "    return integral\n",
    "\n",
    "# a, N = 100\n",
    "N = 100\n",
    "result_a = riemann_integral(N)\n",
    "true_value = 1.57079632679  # This is the true value\n",
    "\n",
    "print(f\"a result with N = {N}: {result_a}\")\n",
    "print(f\"    True value: {true_value}\")\n",
    "print(f\"    Difference: {abs(result_a - true_value)}\")\n",
    "\n",
    "#b\n",
    "N = 1000\n",
    "time_taken = timeit.timeit(lambda: riemann_integral(N), number=1)\n",
    "print(f\"(b) N = {N}, Time Taken: {time_taken} seconds\")\n",
    "\n",
    "# Increase N further for 1-minute computation\n",
    "N = 100000\n",
    "time_taken = timeit.timeit(lambda: riemann_integral(N), number=1)\n",
    "print(f\"    N = {N}, Time Taken: {time_taken} seconds\")"
   ]
  }
 ],
 "metadata": {
  "kernelspec": {
   "display_name": "Python 3 (ipykernel)",
   "language": "python",
   "name": "python3"
  },
  "language_info": {
   "codemirror_mode": {
    "name": "ipython",
    "version": 3
   },
   "file_extension": ".py",
   "mimetype": "text/x-python",
   "name": "python",
   "nbconvert_exporter": "python",
   "pygments_lexer": "ipython3",
   "version": "3.10.12"
  }
 },
 "nbformat": 4,
 "nbformat_minor": 2
}
